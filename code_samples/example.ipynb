{
 "cells": [
  {
   "cell_type": "markdown",
   "id": "95805282-cc09-44ac-9e7c-97296334d00a",
   "metadata": {},
   "source": [
    "# Example Notebook for Ollama "
   ]
  },
  {
   "cell_type": "code",
   "execution_count": 1,
   "id": "1c29c507-a6f6-4978-ac50-cdc23ce19be7",
   "metadata": {},
   "outputs": [],
   "source": [
    "import ollama"
   ]
  },
  {
   "cell_type": "code",
   "execution_count": 2,
   "id": "690c276e-3aef-4524-8661-f56176ec83f0",
   "metadata": {},
   "outputs": [],
   "source": [
    "def get_response(model, query):\n",
    "    return ollama.chat(model=model, messages=[{\n",
    "        'role': 'user',\n",
    "        'content': query,\n",
    "    }])"
   ]
  },
  {
   "cell_type": "code",
   "execution_count": 3,
   "id": "feb3a816-9a45-4288-b12e-df6e82a76c86",
   "metadata": {},
   "outputs": [
    {
     "name": "stdout",
     "output_type": "stream",
     "text": [
      "The sky appears blue to our eyes because of a phenomenon called Rayleigh scattering. Here's what happens:\n",
      "\n",
      "1. **Sunlight**: When sunlight enters Earth's atmosphere, it consists of a broad spectrum of colors, including all the colors of the visible light spectrum.\n",
      "2. **Scattering**: As sunlight travels through the air, it encounters tiny molecules of gases such as nitrogen (N2) and oxygen (O2). These molecules scatter the light in all directions.\n",
      "3. **Shorter wavelengths scattered more**: The smaller molecules are more effective at scattering shorter wavelengths of light, such as blue and violet. This is because these shorter wavelengths have more energy and are more easily deflected by the molecular collisions.\n",
      "4. **Blue light dominates**: As a result of the scattering, the blue light is dispersed in all directions, making it the dominant color we see when looking at the sky. The other colors, like red and orange, are scattered less and appear more muted.\n",
      "5. **Angle of view**: The angle at which we view the sky also affects the apparent color. When the sun is overhead (directly above us), the blue light is scattered in all directions, making the sky appear blue to our eyes.\n",
      "\n",
      "So, to summarize: the sky appears blue because of the scattering of sunlight by tiny molecules in the air, which favors shorter wavelengths like blue and violet, making them more visible to our eyes.\n",
      "\n",
      "(Note: During sunrise and sunset, when the sun's rays have to travel through more of the atmosphere, the light is scattered even more, and the colors become more vivid. This is why we often see beautiful oranges, pinks, and purples during these times.)\n"
     ]
    }
   ],
   "source": [
    "llama_example = get_response('llama3.2', 'Why is the sky blue?')\n",
    "print(llama_example['message']['content'])"
   ]
  },
  {
   "cell_type": "code",
   "execution_count": null,
   "id": "53b6f12c-ca28-474f-a2cf-0242dc759530",
   "metadata": {},
   "outputs": [],
   "source": [
    "gemma2_example = get_response('gemma2:27b', 'Why is the sky blue?')\n",
    "print(gemma2_example['message']['content'])"
   ]
  }
 ],
 "metadata": {
  "kernelspec": {
   "display_name": "Python 3 (ipykernel)",
   "language": "python",
   "name": "python3"
  },
  "language_info": {
   "codemirror_mode": {
    "name": "ipython",
    "version": 3
   },
   "file_extension": ".py",
   "mimetype": "text/x-python",
   "name": "python",
   "nbconvert_exporter": "python",
   "pygments_lexer": "ipython3",
   "version": "3.12.7"
  }
 },
 "nbformat": 4,
 "nbformat_minor": 5
}
