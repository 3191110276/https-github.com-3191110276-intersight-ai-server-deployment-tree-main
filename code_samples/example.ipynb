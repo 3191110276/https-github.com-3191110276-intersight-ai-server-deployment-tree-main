{
 "cells": [
  {
   "cell_type": "markdown",
   "id": "95805282-cc09-44ac-9e7c-97296334d00a",
   "metadata": {},
   "source": [
    "# Example Notebook for Ollama "
   ]
  },
  {
   "cell_type": "code",
   "execution_count": null,
   "id": "1c29c507-a6f6-4978-ac50-cdc23ce19be7",
   "metadata": {},
   "outputs": [],
   "source": [
    "import ollama"
   ]
  },
  {
   "cell_type": "code",
   "execution_count": null,
   "id": "690c276e-3aef-4524-8661-f56176ec83f0",
   "metadata": {},
   "outputs": [],
   "source": [
    "def get_response(model, query):\n",
    "    return ollama.chat(model=model, messages=[{\n",
    "        'role': 'user',\n",
    "        'content': query,\n",
    "    }])"
   ]
  },
  {
   "cell_type": "code",
   "execution_count": null,
   "id": "feb3a816-9a45-4288-b12e-df6e82a76c86",
   "metadata": {},
   "outputs": [],
   "source": [
    "llama_example = get_response('llama3.2', 'Why is the sky blue?')\n",
    "print(llama_example['message']['content'])"
   ]
  },
  {
   "cell_type": "code",
   "execution_count": null,
   "id": "53b6f12c-ca28-474f-a2cf-0242dc759530",
   "metadata": {},
   "outputs": [],
   "source": [
    "gemma2_example = get_response('gemma2:27b', 'Why is the sky blue?')\n",
    "print(gemma2_example['message']['content'])"
   ]
  }
 ],
 "metadata": {
  "kernelspec": {
   "display_name": "Python 3 (ipykernel)",
   "language": "python",
   "name": "python3"
  },
  "language_info": {
   "codemirror_mode": {
    "name": "ipython",
    "version": 3
   },
   "file_extension": ".py",
   "mimetype": "text/x-python",
   "name": "python",
   "nbconvert_exporter": "python",
   "pygments_lexer": "ipython3",
   "version": "3.12.7"
  }
 },
 "nbformat": 4,
 "nbformat_minor": 5
}
